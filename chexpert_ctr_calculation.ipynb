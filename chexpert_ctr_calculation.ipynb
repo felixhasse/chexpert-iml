{
 "cells": [
  {
   "cell_type": "markdown",
   "metadata": {
    "collapsed": false
   },
   "source": [
    "### Import necessary modules"
   ]
  },
  {
   "cell_type": "markdown",
   "source": [],
   "metadata": {
    "collapsed": false
   }
  },
  {
   "cell_type": "code",
   "execution_count": 1,
   "metadata": {
    "collapsed": true
   },
   "outputs": [],
   "source": [
    "import torch\n",
    "from torchvision.transforms import transforms\n",
    "from models import *\n",
    "from constants import *\n",
    "from sklearn.metrics import roc_auc_score\n",
    "from segmentation_inference import *\n",
    "from metrics import *\n",
    "from PIL import Image\n",
    "from datasets import *\n",
    "from torch.utils.data import DataLoader\n",
    "from custom_transformations import HistogramEqualization\n",
    "from util import *\n"
   ]
  },
  {
   "cell_type": "markdown",
   "metadata": {
    "collapsed": false
   },
   "source": [
    "### Create Dataset and Data Loader"
   ]
  },
  {
   "cell_type": "code",
   "execution_count": 2,
   "metadata": {
    "collapsed": false
   },
   "outputs": [],
   "source": [
    "transformation_list = [\n",
    "    transforms.Resize((256, 256)),\n",
    "    HistogramEqualization(),\n",
    "    transforms.ToTensor(),\n",
    "]\n",
    "image_transformation = transforms.Compose(transformation_list)\n",
    "\n",
    "test_dataset = CheXpertDataset(data_path=\"data/CheXpert-v1.0-small/valid.csv\",\n",
    "                               uncertainty_policy=\"zeros\", transform=image_transformation)\n",
    "\n",
    "test_dataloader = DataLoader(dataset=test_dataset, batch_size=1, shuffle=True)\n"
   ]
  },
  {
   "cell_type": "markdown",
   "metadata": {
    "collapsed": false
   },
   "source": [
    "### Load Models"
   ]
  },
  {
   "cell_type": "code",
   "execution_count": 3,
   "metadata": {
    "collapsed": false
   },
   "outputs": [],
   "source": [
    "%%capture\n",
    "heart_model_path = \"models/heart_segmentation/unet_vgg16_simple_aug_03_noflip_lr=0.0001_batch=8_28.3_21:29.pth\"\n",
    "lung_model_path = \"models/lung_segmentation/unet_vgg16_simple_aug_lr=0.0001_batch=8_28.3_21:0.pth\"\n",
    "heart_model = load_segmentation_model(heart_model_path, device=\"cpu\")\n",
    "lung_model = load_segmentation_model(lung_model_path, device=\"cpu\")"
   ]
  },
  {
   "cell_type": "markdown",
   "source": [],
   "metadata": {
    "collapsed": false
   }
  },
  {
   "cell_type": "markdown",
   "metadata": {},
   "source": []
  },
  {
   "cell_type": "markdown",
   "metadata": {
    "collapsed": false
   },
   "source": [
    "### Calculate CTR for CheXpert images"
   ]
  },
  {
   "cell_type": "code",
   "execution_count": 49,
   "metadata": {
    "collapsed": false
   },
   "outputs": [
    {
     "name": "stdout",
     "output_type": "stream",
     "text": [
      "Label: tensor([[0.]]), CTR: tensor([0.5114])\n",
      "Label: tensor([[1.]]), CTR: tensor([0.5349])\n",
      "Label: tensor([[0.]]), CTR: tensor([0.4437])\n",
      "Label: tensor([[0.]]), CTR: tensor([0.4027])\n",
      "Label: tensor([[0.]]), CTR: tensor([0.4010])\n",
      "Label: tensor([[0.]]), CTR: tensor([0.4265])\n",
      "Label: tensor([[0.]]), CTR: tensor([0.3736])\n",
      "Label: tensor([[0.]]), CTR: tensor([0.4158])\n",
      "Label: tensor([[0.]]), CTR: tensor([0.4421])\n",
      "Label: tensor([[0.]]), CTR: tensor([0.4810])\n",
      "Label: tensor([[1.]]), CTR: tensor([0.5605])\n",
      "Label: tensor([[0.]]), CTR: tensor([0.3469])\n",
      "Label: tensor([[0.]]), CTR: tensor([0.3238])\n",
      "Label: tensor([[1.]]), CTR: tensor([0.5198])\n",
      "Label: tensor([[1.]]), CTR: tensor([0.4255])\n",
      "Label: tensor([[0.]]), CTR: tensor([0.4444])\n",
      "Label: tensor([[0.]]), CTR: tensor([0.3460])\n",
      "Label: tensor([[1.]]), CTR: tensor([0.5032])\n",
      "Label: tensor([[0.]]), CTR: tensor([0.5287])\n",
      "Label: tensor([[1.]]), CTR: tensor([0.6092])\n",
      "Label: tensor([[0.]]), CTR: tensor([0.4346])\n",
      "Label: tensor([[0.]]), CTR: tensor([0.4242])\n",
      "Label: tensor([[0.]]), CTR: tensor([0.4040])\n",
      "Label: tensor([[0.]]), CTR: tensor([0.4105])\n",
      "Label: tensor([[0.]]), CTR: tensor([0.5792])\n",
      "Label: tensor([[0.]]), CTR: tensor([0.4722])\n",
      "Label: tensor([[0.]]), CTR: tensor([0.4195])\n",
      "Label: tensor([[0.]]), CTR: tensor([0.4333])\n",
      "Label: tensor([[1.]]), CTR: tensor([0.5813])\n",
      "Label: tensor([[1.]]), CTR: tensor([0.5051])\n",
      "Label: tensor([[0.]]), CTR: tensor([0.5879])\n",
      "Label: tensor([[0.]]), CTR: tensor([0.4294])\n",
      "Label: tensor([[1.]]), CTR: tensor([0.4541])\n",
      "Label: tensor([[0.]]), CTR: tensor([0.4516])\n",
      "Label: tensor([[0.]]), CTR: tensor([0.4688])\n",
      "Label: tensor([[0.]]), CTR: tensor([0.4954])\n",
      "Label: tensor([[0.]]), CTR: tensor([0.4410])\n",
      "Label: tensor([[1.]]), CTR: tensor([0.2871])\n",
      "Label: tensor([[0.]]), CTR: tensor([0.5122])\n",
      "Label: tensor([[1.]]), CTR: tensor([0.5400])\n",
      "Label: tensor([[0.]]), CTR: tensor([0.4142])\n",
      "Label: tensor([[0.]]), CTR: tensor([0.3963])\n",
      "Label: tensor([[0.]]), CTR: tensor([0.4841])\n",
      "Label: tensor([[0.]]), CTR: tensor([0.3762])\n",
      "Label: tensor([[0.]]), CTR: tensor([0.4041])\n",
      "Label: tensor([[0.]]), CTR: tensor([0.3906])\n",
      "Label: tensor([[0.]]), CTR: tensor([0.4000])\n",
      "Label: tensor([[0.]]), CTR: tensor([0.4299])\n",
      "Label: tensor([[1.]]), CTR: tensor([0.5514])\n",
      "Label: tensor([[0.]]), CTR: tensor([0.3483])\n",
      "Label: tensor([[1.]]), CTR: tensor([0.6628])\n",
      "Label: tensor([[1.]]), CTR: tensor([1.0656])\n",
      "Label: tensor([[1.]]), CTR: tensor([0.4430])\n",
      "Label: tensor([[0.]]), CTR: tensor([0.5326])\n",
      "Label: tensor([[0.]]), CTR: tensor([0.6822])\n",
      "Label: tensor([[0.]]), CTR: tensor([0.5403])\n",
      "Label: tensor([[1.]]), CTR: tensor([0.4402])\n",
      "Label: tensor([[0.]]), CTR: tensor([0.4141])\n",
      "Label: tensor([[1.]]), CTR: tensor([0.7739])\n",
      "Label: tensor([[0.]]), CTR: tensor([0.4244])\n",
      "Label: tensor([[0.]]), CTR: tensor([0.3757])\n",
      "Label: tensor([[1.]]), CTR: tensor([0.3744])\n",
      "Label: tensor([[1.]]), CTR: tensor([0.4722])\n",
      "Label: tensor([[0.]]), CTR: tensor([0.4070])\n",
      "Label: tensor([[0.]]), CTR: tensor([0.6587])\n",
      "Label: tensor([[1.]]), CTR: tensor([0.4462])\n",
      "Label: tensor([[0.]]), CTR: tensor([0.4000])\n",
      "Label: tensor([[0.]]), CTR: tensor([0.6373])\n",
      "Label: tensor([[0.]]), CTR: tensor([0.4101])\n",
      "Label: tensor([[1.]]), CTR: tensor([0.4277])\n",
      "Label: tensor([[0.]]), CTR: tensor([0.1086])\n",
      "Label: tensor([[0.]]), CTR: tensor([0.6562])\n",
      "Label: tensor([[0.]]), CTR: tensor([0.3776])\n",
      "Label: tensor([[0.]]), CTR: tensor([0.4774])\n",
      "Label: tensor([[1.]]), CTR: tensor([0.6667])\n",
      "Label: tensor([[0.]]), CTR: tensor([0.4647])\n",
      "Label: tensor([[0.]]), CTR: tensor([0.5890])\n",
      "Label: tensor([[1.]]), CTR: tensor([0.4036])\n",
      "Label: tensor([[1.]]), CTR: tensor([0.6471])\n",
      "Label: tensor([[0.]]), CTR: tensor([0.4010])\n",
      "Label: tensor([[1.]]), CTR: tensor([0.4459])\n",
      "Label: tensor([[1.]]), CTR: tensor([0.4115])\n",
      "Label: tensor([[0.]]), CTR: tensor([0.4847])\n",
      "Label: tensor([[0.]]), CTR: tensor([0.4670])\n",
      "Label: tensor([[1.]]), CTR: tensor([0.5091])\n",
      "Label: tensor([[0.]]), CTR: tensor([0.4314])\n",
      "Label: tensor([[0.]]), CTR: tensor([0.4072])\n",
      "Label: tensor([[1.]]), CTR: tensor([0.7000])\n",
      "Label: tensor([[0.]]), CTR: tensor([0.4947])\n",
      "Label: tensor([[0.]]), CTR: tensor([0.4406])\n",
      "Label: tensor([[1.]]), CTR: tensor([0.6058])\n",
      "Label: tensor([[1.]]), CTR: tensor([0.5795])\n",
      "Label: tensor([[0.]]), CTR: tensor([0.5405])\n",
      "Label: tensor([[0.]]), CTR: tensor([0.4398])\n",
      "Label: tensor([[0.]]), CTR: tensor([0.5529])\n",
      "Label: tensor([[0.]]), CTR: tensor([0.4670])\n",
      "Label: tensor([[1.]]), CTR: tensor([0.9549])\n",
      "Label: tensor([[0.]]), CTR: tensor([0.6190])\n",
      "Label: tensor([[0.]]), CTR: tensor([0.4198])\n",
      "Label: tensor([[0.]]), CTR: tensor([0.4643])\n",
      "Label: tensor([[0.]]), CTR: tensor([0.4167])\n",
      "Label: tensor([[0.]]), CTR: tensor([0.4364])\n",
      "Label: tensor([[0.]]), CTR: tensor([0.5663])\n",
      "Label: tensor([[0.]]), CTR: tensor([0.4030])\n",
      "Label: tensor([[0.]]), CTR: tensor([0.4076])\n",
      "Label: tensor([[1.]]), CTR: tensor([0.5294])\n",
      "Label: tensor([[1.]]), CTR: tensor([0.5038])\n",
      "Label: tensor([[0.]]), CTR: tensor([0.3799])\n",
      "Label: tensor([[0.]]), CTR: tensor([0.4070])\n",
      "Label: tensor([[0.]]), CTR: tensor([0.4570])\n",
      "Label: tensor([[1.]]), CTR: tensor([0.4094])\n",
      "Label: tensor([[0.]]), CTR: tensor([0.6096])\n",
      "Label: tensor([[1.]]), CTR: tensor([0.5187])\n",
      "Label: tensor([[0.]]), CTR: tensor([0.4185])\n",
      "Label: tensor([[0.]]), CTR: tensor([0.3957])\n",
      "Label: tensor([[0.]]), CTR: tensor([0.4133])\n",
      "Label: tensor([[0.]]), CTR: tensor([0.4213])\n",
      "Label: tensor([[0.]]), CTR: tensor([0.8189])\n",
      "Label: tensor([[1.]]), CTR: tensor([0.3303])\n",
      "Label: tensor([[0.]]), CTR: tensor([0.4500])\n",
      "Label: tensor([[0.]]), CTR: tensor([0.4516])\n",
      "Label: tensor([[0.]]), CTR: tensor([0.4768])\n",
      "Label: tensor([[1.]]), CTR: tensor([0.4744])\n",
      "Label: tensor([[0.]]), CTR: tensor([0.6690])\n",
      "Label: tensor([[1.]]), CTR: tensor([0.4683])\n",
      "Label: tensor([[1.]]), CTR: tensor([0.4774])\n",
      "Label: tensor([[1.]]), CTR: tensor([0.4813])\n",
      "Label: tensor([[0.]]), CTR: tensor([0.6023])\n",
      "Label: tensor([[0.]]), CTR: tensor([0.3793])\n",
      "Label: tensor([[0.]]), CTR: tensor([0.4695])\n",
      "Label: tensor([[1.]]), CTR: tensor([0.5000])\n",
      "Label: tensor([[0.]]), CTR: tensor([0.4918])\n",
      "Label: tensor([[0.]]), CTR: tensor([1.])\n",
      "Label: tensor([[0.]]), CTR: tensor([0.6417])\n",
      "Label: tensor([[1.]]), CTR: tensor([0.5867])\n",
      "Label: tensor([[0.]]), CTR: tensor([0.4000])\n",
      "Label: tensor([[0.]]), CTR: tensor([0.5091])\n",
      "Label: tensor([[0.]]), CTR: tensor([0.4220])\n",
      "Label: tensor([[0.]]), CTR: tensor([0.4348])\n",
      "Label: tensor([[1.]]), CTR: tensor([0.5302])\n",
      "Label: tensor([[0.]]), CTR: tensor([0.4568])\n",
      "Label: tensor([[1.]]), CTR: tensor([0.4314])\n",
      "Label: tensor([[0.]]), CTR: tensor([0.4821])\n",
      "Label: tensor([[0.]]), CTR: tensor([0.4172])\n",
      "Label: tensor([[0.]]), CTR: tensor([0.4040])\n",
      "Label: tensor([[1.]]), CTR: tensor([0.6071])\n",
      "Label: tensor([[0.]]), CTR: tensor([0.4127])\n",
      "Label: tensor([[0.]]), CTR: tensor([0.4541])\n",
      "Label: tensor([[1.]]), CTR: tensor([0.4596])\n",
      "Label: tensor([[1.]]), CTR: tensor([0.4645])\n",
      "Label: tensor([[1.]]), CTR: tensor([0.4426])\n",
      "Label: tensor([[1.]]), CTR: tensor([0.4085])\n",
      "Label: tensor([[0.]]), CTR: tensor([0.3520])\n",
      "Label: tensor([[0.]]), CTR: tensor([0.3968])\n",
      "Label: tensor([[0.]]), CTR: tensor([0.6552])\n",
      "Label: tensor([[0.]]), CTR: tensor([0.5260])\n",
      "Label: tensor([[0.]]), CTR: tensor([0.4224])\n",
      "Label: tensor([[0.]]), CTR: tensor([0.4468])\n",
      "Label: tensor([[1.]]), CTR: tensor([0.5043])\n",
      "Label: tensor([[0.]]), CTR: tensor([0.4749])\n",
      "Label: tensor([[0.]]), CTR: tensor([0.7365])\n",
      "Label: tensor([[0.]]), CTR: tensor([0.3654])\n",
      "Label: tensor([[0.]]), CTR: tensor([0.4235])\n",
      "Label: tensor([[1.]]), CTR: tensor([0.4188])\n",
      "Label: tensor([[1.]]), CTR: tensor([0.5859])\n",
      "Label: tensor([[0.]]), CTR: tensor([0.3438])\n",
      "Label: tensor([[0.]]), CTR: tensor([0.3956])\n",
      "Label: tensor([[0.]]), CTR: tensor([0.5217])\n",
      "Label: tensor([[0.]]), CTR: tensor([0.4140])\n",
      "Label: tensor([[0.]]), CTR: tensor([0.3578])\n",
      "Label: tensor([[0.]]), CTR: tensor([0.4107])\n",
      "Label: tensor([[0.]]), CTR: tensor([0.4170])\n",
      "Label: tensor([[1.]]), CTR: tensor([0.4444])\n",
      "Label: tensor([[0.]]), CTR: tensor([0.4400])\n",
      "Label: tensor([[0.]]), CTR: tensor([0.3858])\n",
      "Label: tensor([[0.]]), CTR: tensor([0.4175])\n",
      "Label: tensor([[1.]]), CTR: tensor([0.3882])\n",
      "Label: tensor([[0.]]), CTR: tensor([0.6414])\n",
      "Label: tensor([[1.]]), CTR: tensor([0.3710])\n",
      "Label: tensor([[1.]]), CTR: tensor([0.4670])\n",
      "Label: tensor([[0.]]), CTR: tensor([0.4655])\n",
      "Label: tensor([[0.]]), CTR: tensor([0.4524])\n",
      "Label: tensor([[0.]]), CTR: tensor([0.4698])\n",
      "Label: tensor([[1.]]), CTR: tensor([0.5622])\n",
      "Label: tensor([[0.]]), CTR: tensor([0.3607])\n",
      "Label: tensor([[0.]]), CTR: tensor([0.4238])\n",
      "Label: tensor([[1.]]), CTR: tensor([0.4512])\n",
      "Label: tensor([[0.]]), CTR: tensor([0.4128])\n",
      "Label: tensor([[1.]]), CTR: tensor([0.4381])\n",
      "Label: tensor([[1.]]), CTR: tensor([0.4012])\n",
      "Label: tensor([[0.]]), CTR: tensor([0.5764])\n",
      "Label: tensor([[1.]]), CTR: tensor([0.5169])\n",
      "Label: tensor([[0.]]), CTR: tensor([0.3989])\n",
      "Label: tensor([[1.]]), CTR: tensor([0.4010])\n",
      "Label: tensor([[0.]]), CTR: tensor([0.4286])\n",
      "Label: tensor([[0.]]), CTR: tensor([0.5104])\n",
      "Label: tensor([[1.]]), CTR: tensor([0.4444])\n",
      "Label: tensor([[1.]]), CTR: tensor([0.3581])\n",
      "Label: tensor([[0.]]), CTR: tensor([0.4315])\n",
      "Label: tensor([[0.]]), CTR: tensor([0.5217])\n",
      "Label: tensor([[1.]]), CTR: tensor([0.5517])\n",
      "Label: tensor([[1.]]), CTR: tensor([0.4807])\n",
      "[tensor([0.5114]), tensor([0.5349]), tensor([0.4437]), tensor([0.4027]), tensor([0.4010]), tensor([0.4265]), tensor([0.3736]), tensor([0.4158]), tensor([0.4421]), tensor([0.4810]), tensor([0.5605]), tensor([0.3469]), tensor([0.3238]), tensor([0.5198]), tensor([0.4255]), tensor([0.4444]), tensor([0.3460]), tensor([0.5032]), tensor([0.5287]), tensor([0.6092]), tensor([0.4346]), tensor([0.4242]), tensor([0.4040]), tensor([0.4105]), tensor([0.5792]), tensor([0.4722]), tensor([0.4195]), tensor([0.4333]), tensor([0.5813]), tensor([0.5051]), tensor([0.5879]), tensor([0.4294]), tensor([0.4541]), tensor([0.4516]), tensor([0.4688]), tensor([0.4954]), tensor([0.4410]), tensor([0.2871]), tensor([0.5122]), tensor([0.5400]), tensor([0.4142]), tensor([0.3963]), tensor([0.4841]), tensor([0.3762]), tensor([0.4041]), tensor([0.3906]), tensor([0.4000]), tensor([0.4299]), tensor([0.5514]), tensor([0.3483]), tensor([0.6628]), tensor([1.0656]), tensor([0.4430]), tensor([0.5326]), tensor([0.6822]), tensor([0.5403]), tensor([0.4402]), tensor([0.4141]), tensor([0.7739]), tensor([0.4244]), tensor([0.3757]), tensor([0.3744]), tensor([0.4722]), tensor([0.4070]), tensor([0.6587]), tensor([0.4462]), tensor([0.4000]), tensor([0.6373]), tensor([0.4101]), tensor([0.4277]), tensor([0.1086]), tensor([0.6562]), tensor([0.3776]), tensor([0.4774]), tensor([0.6667]), tensor([0.4647]), tensor([0.5890]), tensor([0.4036]), tensor([0.6471]), tensor([0.4010]), tensor([0.4459]), tensor([0.4115]), tensor([0.4847]), tensor([0.4670]), tensor([0.5091]), tensor([0.4314]), tensor([0.4072]), tensor([0.7000]), tensor([0.4947]), tensor([0.4406]), tensor([0.6058]), tensor([0.5795]), tensor([0.5405]), tensor([0.4398]), tensor([0.5529]), tensor([0.4670]), tensor([0.9549]), tensor([0.6190]), tensor([0.4198]), tensor([0.4643]), tensor([0.4167]), tensor([0.4364]), tensor([0.5663]), tensor([0.4030]), tensor([0.4076]), tensor([0.5294]), tensor([0.5038]), tensor([0.3799]), tensor([0.4070]), tensor([0.4570]), tensor([0.4094]), tensor([0.6096]), tensor([0.5187]), tensor([0.4185]), tensor([0.3957]), tensor([0.4133]), tensor([0.4213]), tensor([0.8189]), tensor([0.3303]), tensor([0.4500]), tensor([0.4516]), tensor([0.4768]), tensor([0.4744]), tensor([0.6690]), tensor([0.4683]), tensor([0.4774]), tensor([0.4813]), tensor([0.6023]), tensor([0.3793]), tensor([0.4695]), tensor([0.5000]), tensor([0.4918]), tensor([1.]), tensor([0.6417]), tensor([0.5867]), tensor([0.4000]), tensor([0.5091]), tensor([0.4220]), tensor([0.4348]), tensor([0.5302]), tensor([0.4568]), tensor([0.4314]), tensor([0.4821]), tensor([0.4172]), tensor([0.4040]), tensor([0.6071]), tensor([0.4127]), tensor([0.4541]), tensor([0.4596]), tensor([0.4645]), tensor([0.4426]), tensor([0.4085]), tensor([0.3520]), tensor([0.3968]), tensor([0.6552]), tensor([0.5260]), tensor([0.4224]), tensor([0.4468]), tensor([0.5043]), tensor([0.4749]), tensor([0.7365]), tensor([0.3654]), tensor([0.4235]), tensor([0.4188]), tensor([0.5859]), tensor([0.3438]), tensor([0.3956]), tensor([0.5217]), tensor([0.4140]), tensor([0.3578]), tensor([0.4107]), tensor([0.4170]), tensor([0.4444]), tensor([0.4400]), tensor([0.3858]), tensor([0.4175]), tensor([0.3882]), tensor([0.6414]), tensor([0.3710]), tensor([0.4670]), tensor([0.4655]), tensor([0.4524]), tensor([0.4698]), tensor([0.5622]), tensor([0.3607]), tensor([0.4238]), tensor([0.4512]), tensor([0.4128]), tensor([0.4381]), tensor([0.4012]), tensor([0.5764]), tensor([0.5169]), tensor([0.3989]), tensor([0.4010]), tensor([0.4286]), tensor([0.5104]), tensor([0.4444]), tensor([0.3581]), tensor([0.4315]), tensor([0.5217]), tensor([0.5517]), tensor([0.4807])]\n"
     ]
    }
   ],
   "source": [
    "ground_truth = torch.FloatTensor()\n",
    "ctr = []\n",
    "prediction = torch.FloatTensor()\n",
    "for step, (image, label) in enumerate(test_dataloader):\n",
    "    ground_truth = torch.cat((ground_truth, label), 0)\n",
    "    ctr_for_image = torch.tensor([ctr_from_tensor(image, heart_model, lung_model)])\n",
    "    ctr.append(ctr_for_image)\n",
    "    print(f\"Label: {label}, CTR: {ctr_for_image}\")\n",
    "    prediction_for_image = torch.ones(1) if ctr_for_image > 0.5 else torch.zeros(1)\n",
    "    prediction = torch.cat((prediction, prediction_for_image), 0)\n",
    "print(ctr)"
   ]
  },
  {
   "cell_type": "markdown",
   "metadata": {
    "collapsed": false
   },
   "source": [
    "### Calculate AUROC score"
   ]
  },
  {
   "cell_type": "code",
   "execution_count": 50,
   "metadata": {
    "collapsed": false
   },
   "outputs": [
    {
     "name": "stdout",
     "output_type": "stream",
     "text": [
      "0.6133021390374331\n"
     ]
    }
   ],
   "source": [
    "score = roc_auc_score(ground_truth.squeeze(), prediction)\n",
    "print(score)"
   ]
  },
  {
   "cell_type": "code",
   "execution_count": 51,
   "metadata": {
    "collapsed": false
   },
   "outputs": [
    {
     "ename": "AttributeError",
     "evalue": "'list' object has no attribute 'squeeze'",
     "output_type": "error",
     "traceback": [
      "\u001B[0;31m---------------------------------------------------------------------------\u001B[0m",
      "\u001B[0;31mAttributeError\u001B[0m                            Traceback (most recent call last)",
      "Cell \u001B[0;32mIn[51], line 4\u001B[0m\n\u001B[1;32m      2\u001B[0m diff \u001B[38;5;241m=\u001B[39m ground_truth \u001B[38;5;241m!=\u001B[39m prediction\n\u001B[1;32m      3\u001B[0m wrong_indices \u001B[38;5;241m=\u001B[39m torch\u001B[38;5;241m.\u001B[39mnonzero(diff)\n\u001B[0;32m----> 4\u001B[0m ctr \u001B[38;5;241m=\u001B[39m \u001B[43mctr\u001B[49m\u001B[38;5;241;43m.\u001B[39;49m\u001B[43msqueeze\u001B[49m()\n\u001B[1;32m      5\u001B[0m \u001B[38;5;28mprint\u001B[39m(ctr)\n\u001B[1;32m      6\u001B[0m \u001B[38;5;28;01mfor\u001B[39;00m index \u001B[38;5;129;01min\u001B[39;00m wrong_indices:\n",
      "\u001B[0;31mAttributeError\u001B[0m: 'list' object has no attribute 'squeeze'"
     ]
    }
   ],
   "source": [
    "ground_truth = ground_truth.squeeze()\n",
    "diff = ground_truth != prediction\n",
    "wrong_indices = torch.nonzero(diff)\n",
    "ctr = ctr.squeeze()\n",
    "print(ctr)\n",
    "for index in wrong_indices:\n",
    "    index = index.item()\n",
    "    print(f\"Index: {index}, CTR: {ctr[index]}\")"
   ]
  },
  {
   "cell_type": "code",
   "execution_count": null,
   "outputs": [],
   "source": [],
   "metadata": {
    "collapsed": false
   }
  }
 ],
 "metadata": {
  "kernelspec": {
   "display_name": "Python 3",
   "language": "python",
   "name": "python3"
  },
  "language_info": {
   "codemirror_mode": {
    "name": "ipython",
    "version": 3
   },
   "file_extension": ".py",
   "mimetype": "text/x-python",
   "name": "python",
   "nbconvert_exporter": "python",
   "pygments_lexer": "ipython3",
   "version": "3.10.8"
  }
 },
 "nbformat": 4,
 "nbformat_minor": 0
}
