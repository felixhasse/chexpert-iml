{
 "cells": [
  {
   "cell_type": "code",
   "execution_count": 34,
   "metadata": {
    "tags": []
   },
   "outputs": [],
   "source": [
    "from models import *\n",
    "from torch.utils.data import DataLoader\n",
    "from torchvision import transforms\n",
    "from datasets import *\n",
    "from constants import *\n",
    "import torch\n",
    "import torchvision\n",
    "import matplotlib.pyplot as plt\n",
    "from torchvision import transforms\n",
    "device = \"cpu\"\n",
    "\n"
   ]
  },
  {
   "cell_type": "code",
   "execution_count": 55,
   "metadata": {
    "tags": []
   },
   "outputs": [],
   "source": [
    "%%capture\n",
    "model = DeepLabV3ResNet50(num_classes=1, pretrained=False)\n",
    "state_dict = torch.load('models/segmentation/1678725898.pth', map_location=torch.device('cpu'))[\"model\"]\n",
    "model.load_state_dict(state_dict)\n",
    "model = model.to(device)\n",
    "model.eval()\n",
    "\n"
   ]
  },
  {
   "cell_type": "code",
   "execution_count": 56,
   "metadata": {},
   "outputs": [
    {
     "name": "stdout",
     "output_type": "stream",
     "text": [
      "Start loading dataset\n",
      "tensor(1.0000)\n",
      "tensor([[0., 0., 0.,  ..., 0., 0., 0.],\n",
      "        [0., 0., 0.,  ..., 0., 0., 0.],\n",
      "        [0., 0., 0.,  ..., 0., 0., 0.],\n",
      "        ...,\n",
      "        [0., 0., 0.,  ..., 0., 0., 0.],\n",
      "        [0., 0., 0.,  ..., 0., 0., 0.],\n",
      "        [0., 0., 0.,  ..., 0., 0., 0.]])\n"
     ]
    }
   ],
   "source": [
    "transformation_list = [\n",
    "    transforms.Resize((256, 256)),\n",
    "    transforms.ToTensor(),\n",
    "]\n",
    "\n",
    "\n",
    "image_transformation = transforms.Compose(transformation_list)\n",
    "mask_transformation = transforms.Compose(\n",
    "    transformation_list)\n",
    "\n",
    "print(\"Start loading dataset\")\n",
    "\n",
    "dataset = JSRTDataset(image_folder=\"data/JSRT/png_images\",\n",
    "                      mask_folder=\"data/JSRT/masks/both_lungs\",\n",
    "                      image_transform=image_transformation, mask_transform=mask_transformation)\n",
    "dataloader = DataLoader(dataset=dataset, batch_size=1, shuffle=True)\n",
    "\n",
    "\n",
    "input_data, gt = (next(iter(dataloader)))\n",
    "\n",
    "\n",
    "with torch.no_grad():\n",
    "    output = model(input_data)[\"out\"]\n",
    "    output = output.squeeze()\n",
    "    output = torch.sigmoid(output)\n",
    "    print(output.max())\n",
    "    output = torch.round(output)\n",
    "    print(output)\n",
    "    gt = gt.squeeze()\n",
    "    input_img = transforms.ToPILImage()(gt)\n",
    "    output_img = transforms.ToPILImage()(output)\n",
    "    input_img.save(\"input.png\")\n",
    "    output_img.save(\"output.png\")"
   ]
  },
  {
   "cell_type": "code",
   "execution_count": 57,
   "metadata": {},
   "outputs": [
    {
     "name": "stdout",
     "output_type": "stream",
     "text": [
      "Start loading dataset\n",
      "tensor(0.9994)\n",
      "tensor([[0., 0., 0.,  ..., 0., 0., 0.],\n",
      "        [0., 0., 0.,  ..., 0., 0., 0.],\n",
      "        [0., 0., 0.,  ..., 0., 0., 0.],\n",
      "        ...,\n",
      "        [0., 0., 0.,  ..., 0., 0., 0.],\n",
      "        [0., 0., 0.,  ..., 0., 0., 0.],\n",
      "        [0., 0., 0.,  ..., 0., 0., 0.]])\n"
     ]
    }
   ],
   "source": [
    "transformation_list = [\n",
    "    transforms.Resize((256, 256)),\n",
    "    transforms.ToTensor(),\n",
    "]\n",
    "\n",
    "\n",
    "image_transformation = transforms.Compose(transformation_list)\n",
    "mask_transformation = transforms.Compose(\n",
    "    transformation_list)\n",
    "\n",
    "print(\"Start loading dataset\")\n",
    "\n",
    "dataset = CheXpertDataset(data_path=\"./data/CheXpert-v1.0-small/valid.csv\",\n",
    "                               uncertainty_policy=\"zeros\", transform=image_transformation)\n",
    "dataloader = DataLoader(dataset=dataset, batch_size=1, shuffle=True)\n",
    "\n",
    "\n",
    "input_data, _ = (next(iter(dataloader)))\n",
    "\n",
    "\n",
    "with torch.no_grad():\n",
    "    output = model(input_data)[\"out\"]\n",
    "    output = output.squeeze()\n",
    "    output = torch.sigmoid(output)\n",
    "    print(output.max())\n",
    "    output = torch.round(output)\n",
    "    print(output)\n",
    "    input_data = input_data.squeeze()\n",
    "    input_img = transforms.ToPILImage()(input_data)\n",
    "    output_img = transforms.ToPILImage()(output)\n",
    "    input_img.save(\"input.png\")\n",
    "    output_img.save(\"output.png\")"
   ]
  },
  {
   "cell_type": "code",
   "execution_count": null,
   "metadata": {},
   "outputs": [],
   "source": []
  }
 ],
 "metadata": {
  "kernelspec": {
   "display_name": "venv-3.10",
   "language": "python",
   "name": "python3"
  },
  "language_info": {
   "codemirror_mode": {
    "name": "ipython",
    "version": 3
   },
   "file_extension": ".py",
   "mimetype": "text/x-python",
   "name": "python",
   "nbconvert_exporter": "python",
   "pygments_lexer": "ipython3",
   "version": "3.6.8"
  }
 },
 "nbformat": 4,
 "nbformat_minor": 4
}
