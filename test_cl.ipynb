{
 "cells": [
  {
   "cell_type": "code",
   "execution_count": 1,
   "metadata": {
    "collapsed": true
   },
   "outputs": [],
   "source": [
    "from datasets import *"
   ]
  },
  {
   "cell_type": "code",
   "execution_count": 6,
   "outputs": [
    {
     "ename": "FileNotFoundError",
     "evalue": "[Errno 2] No such file or directory: 'data/chexpert_masks/deeplabv3_simple_aug_04/lung/valid/patient64541/study1/view1_frontal.jpg'",
     "output_type": "error",
     "traceback": [
      "\u001B[0;31m---------------------------------------------------------------------------\u001B[0m",
      "\u001B[0;31mFileNotFoundError\u001B[0m                         Traceback (most recent call last)",
      "Cell \u001B[0;32mIn[6], line 10\u001B[0m\n\u001B[1;32m      3\u001B[0m transformation_list \u001B[38;5;241m=\u001B[39m [\n\u001B[1;32m      4\u001B[0m     transforms\u001B[38;5;241m.\u001B[39mResize((\u001B[38;5;241m256\u001B[39m, \u001B[38;5;241m256\u001B[39m)),\n\u001B[1;32m      5\u001B[0m     HistogramEqualization(),\n\u001B[1;32m      6\u001B[0m     transforms\u001B[38;5;241m.\u001B[39mToTensor(),\n\u001B[1;32m      7\u001B[0m ]\n\u001B[1;32m      8\u001B[0m image_transformation \u001B[38;5;241m=\u001B[39m transforms\u001B[38;5;241m.\u001B[39mCompose(transformation_list)\n\u001B[0;32m---> 10\u001B[0m dataset \u001B[38;5;241m=\u001B[39m \u001B[43mCheXpertDataset\u001B[49m\u001B[43m(\u001B[49m\u001B[43mdata_path\u001B[49m\u001B[38;5;241;43m=\u001B[39;49m\u001B[38;5;124;43m\"\u001B[39;49m\u001B[38;5;124;43mdata/CheXpert-v1.0-small/valid.csv\u001B[39;49m\u001B[38;5;124;43m\"\u001B[39;49m\u001B[43m,\u001B[49m\n\u001B[1;32m     11\u001B[0m \u001B[43m                          \u001B[49m\u001B[43muncertainty_policy\u001B[49m\u001B[38;5;241;43m=\u001B[39;49m\u001B[38;5;124;43m\"\u001B[39;49m\u001B[38;5;124;43mzeros\u001B[39;49m\u001B[38;5;124;43m\"\u001B[39;49m\u001B[43m,\u001B[49m\u001B[43m \u001B[49m\u001B[43mtransform\u001B[49m\u001B[38;5;241;43m=\u001B[39;49m\u001B[43mimage_transformation\u001B[49m\u001B[43m,\u001B[49m\n\u001B[1;32m     12\u001B[0m \u001B[43m                          \u001B[49m\u001B[43mheart_mask_path\u001B[49m\u001B[38;5;241;43m=\u001B[39;49m\u001B[38;5;124;43m\"\u001B[39;49m\u001B[38;5;124;43mdata/chexpert_masks/deeplabv3_simple_aug_04/heart\u001B[39;49m\u001B[38;5;124;43m\"\u001B[39;49m\u001B[43m,\u001B[49m\n\u001B[1;32m     13\u001B[0m \u001B[43m                          \u001B[49m\u001B[43mlung_mask_path\u001B[49m\u001B[38;5;241;43m=\u001B[39;49m\u001B[38;5;124;43m\"\u001B[39;49m\u001B[38;5;124;43mdata/chexpert_masks/deeplabv3_simple_aug_04/lung\u001B[39;49m\u001B[38;5;124;43m\"\u001B[39;49m\u001B[43m,\u001B[49m\n\u001B[1;32m     14\u001B[0m \u001B[43m                          \u001B[49m\u001B[43mcurriculum_learning\u001B[49m\u001B[38;5;241;43m=\u001B[39;49m\u001B[38;5;28;43;01mTrue\u001B[39;49;00m\u001B[43m)\u001B[49m\n",
      "File \u001B[0;32m~/dev/chexpert-iml/datasets.py:83\u001B[0m, in \u001B[0;36mCheXpertDataset.__init__\u001B[0;34m(self, data_path, uncertainty_policy, transform, lung_mask_path, heart_mask_path, crop_images, curriculum_learning)\u001B[0m\n\u001B[1;32m     81\u001B[0m \u001B[38;5;28mself\u001B[39m\u001B[38;5;241m.\u001B[39muncertainty_policy \u001B[38;5;241m=\u001B[39m uncertainty_policy\n\u001B[1;32m     82\u001B[0m \u001B[38;5;28;01mif\u001B[39;00m curriculum_learning:\n\u001B[0;32m---> 83\u001B[0m     \u001B[38;5;28;43mself\u001B[39;49m\u001B[38;5;241;43m.\u001B[39;49m\u001B[43mgenerate_difficulties\u001B[49m\u001B[43m(\u001B[49m\u001B[43m)\u001B[49m\n",
      "File \u001B[0;32m~/dev/chexpert-iml/datasets.py:136\u001B[0m, in \u001B[0;36mCheXpertDataset.generate_difficulties\u001B[0;34m(self)\u001B[0m\n\u001B[1;32m    134\u001B[0m image_path \u001B[38;5;241m=\u001B[39m \u001B[38;5;28mself\u001B[39m\u001B[38;5;241m.\u001B[39mimage_paths[i]\n\u001B[1;32m    135\u001B[0m label \u001B[38;5;241m=\u001B[39m \u001B[38;5;28mself\u001B[39m\u001B[38;5;241m.\u001B[39mlabels[i]\n\u001B[0;32m--> 136\u001B[0m lung_mask \u001B[38;5;241m=\u001B[39m transforms\u001B[38;5;241m.\u001B[39mToTensor()(\u001B[43mImage\u001B[49m\u001B[38;5;241;43m.\u001B[39;49m\u001B[43mopen\u001B[49m\u001B[43m(\u001B[49m\u001B[38;5;28;43mself\u001B[39;49m\u001B[38;5;241;43m.\u001B[39;49m\u001B[43mlung_mask_paths\u001B[49m\u001B[43m[\u001B[49m\u001B[43mi\u001B[49m\u001B[43m]\u001B[49m\u001B[43m)\u001B[49m\u001B[38;5;241m.\u001B[39mconvert(\u001B[38;5;124m\"\u001B[39m\u001B[38;5;124m1\u001B[39m\u001B[38;5;124m\"\u001B[39m))\n\u001B[1;32m    137\u001B[0m heart_mask \u001B[38;5;241m=\u001B[39m transforms\u001B[38;5;241m.\u001B[39mToTensor()(Image\u001B[38;5;241m.\u001B[39mopen(\u001B[38;5;28mself\u001B[39m\u001B[38;5;241m.\u001B[39mheart_mask_paths[i])\u001B[38;5;241m.\u001B[39mconvert(\u001B[38;5;124m\"\u001B[39m\u001B[38;5;124m1\u001B[39m\u001B[38;5;124m\"\u001B[39m))\n\u001B[1;32m    138\u001B[0m ctr \u001B[38;5;241m=\u001B[39m calculate_ctr(heart_mask\u001B[38;5;241m=\u001B[39mheart_mask, lung_mask\u001B[38;5;241m=\u001B[39mlung_mask)\n",
      "File \u001B[0;32m/opt/homebrew/Caskroom/miniforge/base/envs/thesis_env/lib/python3.10/site-packages/PIL/Image.py:3227\u001B[0m, in \u001B[0;36mopen\u001B[0;34m(fp, mode, formats)\u001B[0m\n\u001B[1;32m   3224\u001B[0m     filename \u001B[38;5;241m=\u001B[39m fp\n\u001B[1;32m   3226\u001B[0m \u001B[38;5;28;01mif\u001B[39;00m filename:\n\u001B[0;32m-> 3227\u001B[0m     fp \u001B[38;5;241m=\u001B[39m \u001B[43mbuiltins\u001B[49m\u001B[38;5;241;43m.\u001B[39;49m\u001B[43mopen\u001B[49m\u001B[43m(\u001B[49m\u001B[43mfilename\u001B[49m\u001B[43m,\u001B[49m\u001B[43m \u001B[49m\u001B[38;5;124;43m\"\u001B[39;49m\u001B[38;5;124;43mrb\u001B[39;49m\u001B[38;5;124;43m\"\u001B[39;49m\u001B[43m)\u001B[49m\n\u001B[1;32m   3228\u001B[0m     exclusive_fp \u001B[38;5;241m=\u001B[39m \u001B[38;5;28;01mTrue\u001B[39;00m\n\u001B[1;32m   3230\u001B[0m \u001B[38;5;28;01mtry\u001B[39;00m:\n",
      "\u001B[0;31mFileNotFoundError\u001B[0m: [Errno 2] No such file or directory: 'data/chexpert_masks/deeplabv3_simple_aug_04/lung/valid/patient64541/study1/view1_frontal.jpg'"
     ]
    }
   ],
   "source": [
    "from custom_transformations import HistogramEqualization\n",
    "\n",
    "transformation_list = [\n",
    "    transforms.Resize((256, 256)),\n",
    "    HistogramEqualization(),\n",
    "    transforms.ToTensor(),\n",
    "]\n",
    "image_transformation = transforms.Compose(transformation_list)\n",
    "\n",
    "dataset = CheXpertDataset(data_path=\"data/CheXpert-v1.0-small/valid.csv\",\n",
    "                          uncertainty_policy=\"zeros\", transform=image_transformation,\n",
    "                          heart_mask_path=\"data/chexpert_masks/deeplabv3_simple_aug_04/heart\",\n",
    "                          lung_mask_path=\"data/chexpert_masks/deeplabv3_simple_aug_04/lung\",\n",
    "                          curriculum_learning=True)\n"
   ],
   "metadata": {
    "collapsed": false
   }
  },
  {
   "cell_type": "code",
   "execution_count": 3,
   "outputs": [
    {
     "name": "stdout",
     "output_type": "stream",
     "text": [
      "114\n",
      "60\n",
      "28\n"
     ]
    }
   ],
   "source": [
    "hard_indices = [i for i, difficulty in enumerate(dataset.difficulties) if difficulty == 2]\n",
    "medium_indices = [i for i, difficulty in enumerate(dataset.difficulties) if difficulty == 1]\n",
    "easy_indices = [i for i, difficulty in enumerate(dataset.difficulties) if difficulty == 0]\n",
    "\n",
    "print(len(hard_indices))\n",
    "print(len(medium_indices))\n",
    "print(len(easy_indices))"
   ],
   "metadata": {
    "collapsed": false
   }
  },
  {
   "cell_type": "code",
   "execution_count": 5,
   "outputs": [
    {
     "name": "stdout",
     "output_type": "stream",
     "text": [
      "0.40594059405940597\n"
     ]
    }
   ],
   "source": [
    "from datasets import scoring_function\n",
    "\n",
    "correct = 0\n",
    "for i in range(len(dataset)):\n",
    "    if round(dataset.get_ctr(i)) == dataset.labels[i]:\n",
    "        correct += 1\n",
    "print(correct / len(dataset))\n",
    "\n",
    "\n"
   ],
   "metadata": {
    "collapsed": false
   }
  },
  {
   "cell_type": "code",
   "execution_count": null,
   "outputs": [],
   "source": [],
   "metadata": {
    "collapsed": false
   }
  }
 ],
 "metadata": {
  "kernelspec": {
   "display_name": "Python 3",
   "language": "python",
   "name": "python3"
  },
  "language_info": {
   "codemirror_mode": {
    "name": "ipython",
    "version": 2
   },
   "file_extension": ".py",
   "mimetype": "text/x-python",
   "name": "python",
   "nbconvert_exporter": "python",
   "pygments_lexer": "ipython2",
   "version": "2.7.6"
  }
 },
 "nbformat": 4,
 "nbformat_minor": 0
}
