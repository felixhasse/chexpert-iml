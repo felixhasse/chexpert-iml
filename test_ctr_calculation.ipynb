{
 "cells": [
  {
   "cell_type": "code",
   "execution_count": 2,
   "outputs": [],
   "source": [
    "import sys\n",
    "import os\n",
    "\n",
    "parent_dir = os.path.abspath('..')\n",
    "if parent_dir not in sys.path:\n",
    "    sys.path.append(parent_dir)\n",
    "\n",
    "\n",
    "from torchvision.transforms import transforms\n",
    "from PIL import Image\n",
    "from os import path\n",
    "from constants import *\n",
    "from matplotlib import pyplot as plt\n",
    "from ctr_calculation import *"
   ],
   "metadata": {
    "collapsed": false
   }
  },
  {
   "cell_type": "code",
   "execution_count": 3,
   "metadata": {
    "collapsed": true
   },
   "outputs": [
    {
     "ename": "FileNotFoundError",
     "evalue": "[Errno 2] No such file or directory: './data/JSRT/masks/both_lungs/JPCLN009.png'",
     "output_type": "error",
     "traceback": [
      "\u001B[0;31m---------------------------------------------------------------------------\u001B[0m",
      "\u001B[0;31mFileNotFoundError\u001B[0m                         Traceback (most recent call last)",
      "Cell \u001B[0;32mIn[3], line 10\u001B[0m\n\u001B[1;32m      5\u001B[0m mask_transformation \u001B[38;5;241m=\u001B[39m transforms\u001B[38;5;241m.\u001B[39mCompose(\n\u001B[1;32m      6\u001B[0m     transformation_list)\n\u001B[1;32m      8\u001B[0m image_name \u001B[38;5;241m=\u001B[39m \u001B[38;5;124m\"\u001B[39m\u001B[38;5;124mJPCLN009.png\u001B[39m\u001B[38;5;124m\"\u001B[39m\n\u001B[0;32m---> 10\u001B[0m lung_mask \u001B[38;5;241m=\u001B[39m \u001B[43mImage\u001B[49m\u001B[38;5;241;43m.\u001B[39;49m\u001B[43mopen\u001B[49m\u001B[43m(\u001B[49m\u001B[43mpath\u001B[49m\u001B[38;5;241;43m.\u001B[39;49m\u001B[43mjoin\u001B[49m\u001B[43m(\u001B[49m\u001B[43mJSRT_PATH\u001B[49m\u001B[43m,\u001B[49m\u001B[43m \u001B[49m\u001B[38;5;124;43m\"\u001B[39;49m\u001B[38;5;124;43mmasks/both_lungs\u001B[39;49m\u001B[38;5;124;43m\"\u001B[39;49m\u001B[43m,\u001B[49m\u001B[43m \u001B[49m\u001B[43mimage_name\u001B[49m\u001B[43m)\u001B[49m\u001B[43m)\u001B[49m\u001B[38;5;241m.\u001B[39mresize((\u001B[38;5;241m256\u001B[39m, \u001B[38;5;241m256\u001B[39m))\n\u001B[1;32m     11\u001B[0m heart_mask \u001B[38;5;241m=\u001B[39m Image\u001B[38;5;241m.\u001B[39mopen(path\u001B[38;5;241m.\u001B[39mjoin(JSRT_PATH, \u001B[38;5;124m\"\u001B[39m\u001B[38;5;124mmasks/heart\u001B[39m\u001B[38;5;124m\"\u001B[39m, image_name))\u001B[38;5;241m.\u001B[39mresize((\u001B[38;5;241m256\u001B[39m, \u001B[38;5;241m256\u001B[39m))\n\u001B[1;32m     13\u001B[0m lung_tensor \u001B[38;5;241m=\u001B[39m mask_transformation(lung_mask)\n",
      "File \u001B[0;32m/opt/homebrew/Caskroom/miniforge/base/envs/thesis_env/lib/python3.10/site-packages/PIL/Image.py:3227\u001B[0m, in \u001B[0;36mopen\u001B[0;34m(fp, mode, formats)\u001B[0m\n\u001B[1;32m   3224\u001B[0m     filename \u001B[38;5;241m=\u001B[39m fp\n\u001B[1;32m   3226\u001B[0m \u001B[38;5;28;01mif\u001B[39;00m filename:\n\u001B[0;32m-> 3227\u001B[0m     fp \u001B[38;5;241m=\u001B[39m \u001B[43mbuiltins\u001B[49m\u001B[38;5;241;43m.\u001B[39;49m\u001B[43mopen\u001B[49m\u001B[43m(\u001B[49m\u001B[43mfilename\u001B[49m\u001B[43m,\u001B[49m\u001B[43m \u001B[49m\u001B[38;5;124;43m\"\u001B[39;49m\u001B[38;5;124;43mrb\u001B[39;49m\u001B[38;5;124;43m\"\u001B[39;49m\u001B[43m)\u001B[49m\n\u001B[1;32m   3228\u001B[0m     exclusive_fp \u001B[38;5;241m=\u001B[39m \u001B[38;5;28;01mTrue\u001B[39;00m\n\u001B[1;32m   3230\u001B[0m \u001B[38;5;28;01mtry\u001B[39;00m:\n",
      "\u001B[0;31mFileNotFoundError\u001B[0m: [Errno 2] No such file or directory: './data/JSRT/masks/both_lungs/JPCLN009.png'"
     ]
    }
   ],
   "source": [
    "transformation_list = [\n",
    "    transforms.Resize((256, 256)),\n",
    "    transforms.ToTensor(),\n",
    "]\n",
    "mask_transformation = transforms.Compose(\n",
    "    transformation_list)\n",
    "\n",
    "image_name = \"JPCLN009.png\"\n",
    "\n",
    "lung_mask = Image.open(path.join(JSRT_PATH, \"masks/both_lungs\", image_name)).resize((256, 256))\n",
    "heart_mask = Image.open(path.join(JSRT_PATH, \"masks/heart\", image_name)).resize((256, 256))\n",
    "\n",
    "lung_tensor = mask_transformation(lung_mask)\n",
    "heart_tensor = mask_transformation(heart_mask)"
   ]
  },
  {
   "cell_type": "code",
   "execution_count": 4,
   "outputs": [
    {
     "ename": "NameError",
     "evalue": "name 'heart_tensor' is not defined",
     "output_type": "error",
     "traceback": [
      "\u001B[0;31m---------------------------------------------------------------------------\u001B[0m",
      "\u001B[0;31mNameError\u001B[0m                                 Traceback (most recent call last)",
      "Cell \u001B[0;32mIn[4], line 1\u001B[0m\n\u001B[0;32m----> 1\u001B[0m ctr \u001B[38;5;241m=\u001B[39m calculate_ctr(heart_mask\u001B[38;5;241m=\u001B[39m\u001B[43mheart_tensor\u001B[49m, lung_mask\u001B[38;5;241m=\u001B[39mlung_tensor)\n\u001B[1;32m      2\u001B[0m heart_diameter \u001B[38;5;241m=\u001B[39m calculate_diameter(mask\u001B[38;5;241m=\u001B[39mheart_tensor)\n\u001B[1;32m      3\u001B[0m lung_diameter \u001B[38;5;241m=\u001B[39m calculate_diameter(mask\u001B[38;5;241m=\u001B[39mlung_tensor)\n",
      "\u001B[0;31mNameError\u001B[0m: name 'heart_tensor' is not defined"
     ]
    }
   ],
   "source": [
    "ctr = calculate_ctr(heart_mask=heart_tensor, lung_mask=lung_tensor)\n",
    "heart_diameter = calculate_diameter(mask=heart_tensor)\n",
    "lung_diameter = calculate_diameter(mask=lung_tensor)\n",
    "\n",
    "fig, (ax1, ax2) = plt.subplots(1, 2)\n",
    "ax1.imshow(lung_mask)\n",
    "ax2.imshow(heart_mask)\n",
    "\n",
    "print(f\"Heart Diameter: {heart_diameter}\")\n",
    "print(f\"Lung Diameter: {lung_diameter}\")\n",
    "print(f\"Calculated CTR: {ctr}\")\n",
    "print('No cardiomegaly' if ctr <= 0.5 else 'Cardiomegaly')\n"
   ],
   "metadata": {
    "collapsed": false
   }
  },
  {
   "cell_type": "markdown",
   "source": [],
   "metadata": {
    "collapsed": false
   }
  }
 ],
 "metadata": {
  "kernelspec": {
   "display_name": "Python 3",
   "language": "python",
   "name": "python3"
  },
  "language_info": {
   "codemirror_mode": {
    "name": "ipython",
    "version": 2
   },
   "file_extension": ".py",
   "mimetype": "text/x-python",
   "name": "python",
   "nbconvert_exporter": "python",
   "pygments_lexer": "ipython2",
   "version": "2.7.6"
  }
 },
 "nbformat": 4,
 "nbformat_minor": 0
}
