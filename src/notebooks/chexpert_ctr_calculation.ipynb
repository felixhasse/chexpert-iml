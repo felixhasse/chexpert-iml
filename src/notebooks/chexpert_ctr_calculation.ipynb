{
 "cells": [
  {
   "cell_type": "markdown",
   "metadata": {
    "collapsed": false
   },
   "source": [
    "### Import necessary modules"
   ]
  },
  {
   "cell_type": "markdown",
   "source": [],
   "metadata": {
    "collapsed": false
   }
  },
  {
   "cell_type": "code",
   "execution_count": 3,
   "metadata": {
    "collapsed": true
   },
   "outputs": [],
   "source": [
    "# This is necessary for imports to work correctly\n",
    "import os\n",
    "import sys\n",
    "module_path = os.path.abspath(os.path.join('..'))\n",
    "if module_path not in sys.path:\n",
    "    sys.path.append(module_path)\n",
    "\n",
    "import torch\n",
    "from torchvision.transforms import transforms\n",
    "from materials.models import *\n",
    "from materials.constants import *\n",
    "from sklearn.metrics import roc_auc_score\n",
    "from materials.segmentation_inference import *\n",
    "from materials.metrics import *\n",
    "from PIL import Image\n",
    "from materials.datasets import *\n",
    "from torch.utils.data import DataLoader\n",
    "from materials.custom_transformations import HistogramEqualization\n",
    "from materials.util import *\n"
   ]
  },
  {
   "cell_type": "markdown",
   "metadata": {
    "collapsed": false
   },
   "source": [
    "### Create Dataset and Data Loader"
   ]
  },
  {
   "cell_type": "code",
   "execution_count": 3,
   "metadata": {
    "collapsed": false
   },
   "outputs": [],
   "source": [
    "transformation_list = [\n",
    "    transforms.Resize((256, 256)),\n",
    "    HistogramEqualization(),\n",
    "    transforms.ToTensor(),\n",
    "]\n",
    "image_transformation = transforms.Compose(transformation_list)\n",
    "\n",
    "test_dataset = CheXpertDataset(data_path=\"data/CheXpert-v1.0-small/valid.csv\",\n",
    "                               uncertainty_policy=\"zeros\", transform=image_transformation)\n",
    "\n",
    "test_dataloader = DataLoader(dataset=test_dataset, batch_size=1, shuffle=True)\n"
   ]
  },
  {
   "cell_type": "markdown",
   "metadata": {
    "collapsed": false
   },
   "source": [
    "### Load Models"
   ]
  },
  {
   "cell_type": "code",
   "execution_count": 4,
   "metadata": {
    "collapsed": false
   },
   "outputs": [],
   "source": [
    "%%capture\n",
    "heart_model_path = \"models/heart_segmentation/unet_vgg16_simple_aug_lr=0.0001_batch=8_28.3_21:6.pth\"\n",
    "lung_model_path = \"models/lung_segmentation/unet_vgg16_simple_aug_lr=0.0001_batch=8_28.3_21:0.pth\"\n",
    "heart_model = load_segmentation_model(heart_model_path, device=\"cpu\")\n",
    "lung_model = load_segmentation_model(lung_model_path, device=\"cpu\")"
   ]
  },
  {
   "cell_type": "markdown",
   "source": [],
   "metadata": {
    "collapsed": false
   }
  },
  {
   "cell_type": "markdown",
   "metadata": {},
   "source": []
  },
  {
   "cell_type": "markdown",
   "metadata": {
    "collapsed": false
   },
   "source": [
    "### Calculate CTR for CheXpert images"
   ]
  },
  {
   "cell_type": "code",
   "execution_count": 5,
   "metadata": {
    "collapsed": false
   },
   "outputs": [
    {
     "name": "stdout",
     "output_type": "stream",
     "text": [
      "Label: tensor([[0.]]), CTR: tensor([1.4144])\n",
      "Label: tensor([[0.]]), CTR: tensor([1.5059])\n",
      "Label: tensor([[1.]]), CTR: tensor([1.7067])\n",
      "Label: tensor([[1.]]), CTR: tensor([1.4713])\n",
      "Label: tensor([[0.]]), CTR: tensor([1.1852])\n",
      "Label: tensor([[0.]]), CTR: tensor([1.4222])\n",
      "Label: tensor([[0.]]), CTR: tensor([1.6000])\n",
      "Label: tensor([[0.]]), CTR: tensor([1.7297])\n",
      "Label: tensor([[0.]]), CTR: tensor([2.0317])\n",
      "Label: tensor([[0.]]), CTR: tensor([1.4798])\n",
      "Label: tensor([[0.]]), CTR: tensor([1.2549])\n",
      "Label: tensor([[1.]]), CTR: tensor([1.3838])\n",
      "Label: tensor([[1.]]), CTR: tensor([1.1278])\n",
      "Label: tensor([[1.]]), CTR: tensor([1.8551])\n",
      "Label: tensor([[0.]]), CTR: tensor([1.2133])\n",
      "Label: tensor([[1.]]), CTR: tensor([1.1689])\n",
      "Label: tensor([[0.]]), CTR: tensor([1.2075])\n",
      "Label: tensor([[0.]]), CTR: tensor([1.7655])\n",
      "Label: tensor([[0.]]), CTR: tensor([2.0157])\n",
      "Label: tensor([[0.]]), CTR: tensor([1.4713])\n",
      "Label: tensor([[1.]]), CTR: tensor([1.7297])\n",
      "Label: tensor([[0.]]), CTR: tensor([1.4066])\n",
      "Label: tensor([[1.]]), CTR: tensor([1.4884])\n",
      "Label: tensor([[0.]]), CTR: tensor([1.2929])\n",
      "Label: tensor([[0.]]), CTR: tensor([1.3989])\n",
      "Label: tensor([[0.]]), CTR: tensor([1.4066])\n",
      "Label: tensor([[0.]]), CTR: tensor([1.7534])\n",
      "Label: tensor([[0.]]), CTR: tensor([1.5515])\n",
      "Label: tensor([[1.]]), CTR: tensor([1.5238])\n",
      "Label: tensor([[0.]]), CTR: tensor([1.1636])\n",
      "Label: tensor([[0.]]), CTR: tensor([1.8286])\n",
      "Label: tensor([[0.]]), CTR: tensor([1.6306])\n",
      "Label: tensor([[0.]]), CTR: tensor([1.4713])\n",
      "Label: tensor([[1.]]), CTR: tensor([1.2549])\n",
      "Label: tensor([[0.]]), CTR: tensor([1.3838])\n",
      "Label: tensor([[1.]]), CTR: tensor([1.9542])\n",
      "Label: tensor([[0.]]), CTR: tensor([1.7297])\n",
      "Label: tensor([[0.]]), CTR: tensor([1.2929])\n",
      "Label: tensor([[0.]]), CTR: tensor([1.6203])\n",
      "Label: tensor([[1.]]), CTR: tensor([1.4222])\n",
      "Label: tensor([[0.]]), CTR: tensor([1.5059])\n",
      "Label: tensor([[0.]]), CTR: tensor([2.0645])\n",
      "Label: tensor([[1.]]), CTR: tensor([1.4144])\n",
      "Label: tensor([[0.]]), CTR: tensor([1.1034])\n",
      "Label: tensor([[0.]]), CTR: tensor([1.3545])\n",
      "Label: tensor([[0.]]), CTR: tensor([1.3690])\n",
      "Label: tensor([[0.]]), CTR: tensor([1.3545])\n",
      "Label: tensor([[1.]]), CTR: tensor([1.1907])\n",
      "Label: tensor([[0.]]), CTR: tensor([1.3061])\n",
      "Label: tensor([[1.]]), CTR: tensor([1.5059])\n",
      "Label: tensor([[1.]]), CTR: tensor([1.3196])\n",
      "Label: tensor([[0.]]), CTR: tensor([1.4382])\n",
      "Label: tensor([[0.]]), CTR: tensor([1.5706])\n",
      "Label: tensor([[1.]]), CTR: tensor([1.5422])\n",
      "Label: tensor([[0.]]), CTR: tensor([1.2549])\n",
      "Label: tensor([[1.]]), CTR: tensor([1.0940])\n",
      "Label: tensor([[0.]]), CTR: tensor([1.2929])\n",
      "Label: tensor([[0.]]), CTR: tensor([1.7534])\n",
      "Label: tensor([[0.]]), CTR: tensor([1.1480])\n",
      "Label: tensor([[1.]]), CTR: tensor([1.3690])\n",
      "Label: tensor([[0.]]), CTR: tensor([2.8132])\n",
      "Label: tensor([[0.]]), CTR: tensor([1.3617])\n",
      "Label: tensor([[0.]]), CTR: tensor([1.4713])\n",
      "Label: tensor([[1.]]), CTR: tensor([1.3333])\n",
      "Label: tensor([[0.]]), CTR: tensor([1.2864])\n",
      "Label: tensor([[0.]]), CTR: tensor([1.4302])\n",
      "Label: tensor([[0.]]), CTR: tensor([1.2736])\n",
      "Label: tensor([[0.]]), CTR: tensor([1.3474])\n",
      "Label: tensor([[0.]]), CTR: tensor([1.3763])\n",
      "Label: tensor([[1.]]), CTR: tensor([2.0984])\n",
      "Label: tensor([[0.]]), CTR: tensor([1.3403])\n",
      "Label: tensor([[0.]]), CTR: tensor([1.2673])\n",
      "Label: tensor([[1.]]), CTR: tensor([1.3913])\n",
      "Label: tensor([[1.]]), CTR: tensor([1.8686])\n",
      "Label: tensor([[1.]]), CTR: tensor([1.4971])\n",
      "Label: tensor([[1.]]), CTR: tensor([1.3403])\n",
      "Label: tensor([[0.]]), CTR: tensor([1.3474])\n",
      "Label: tensor([[0.]]), CTR: tensor([1.7534])\n",
      "Label: tensor([[0.]]), CTR: tensor([1.0847])\n",
      "Label: tensor([[0.]]), CTR: tensor([2.0317])\n",
      "Label: tensor([[0.]]), CTR: tensor([1.5059])\n",
      "Label: tensor([[0.]]), CTR: tensor([2.0984])\n",
      "Label: tensor([[1.]]), CTR: tensor([1.3690])\n",
      "Label: tensor([[1.]]), CTR: tensor([1.6516])\n",
      "Label: tensor([[0.]]), CTR: tensor([1.5515])\n",
      "Label: tensor([[0.]]), CTR: tensor([1.1852])\n",
      "Label: tensor([[0.]]), CTR: tensor([1.5238])\n",
      "Label: tensor([[0.]]), CTR: tensor([1.3196])\n",
      "Label: tensor([[0.]]), CTR: tensor([1.2308])\n",
      "Label: tensor([[0.]]), CTR: tensor([1.7415])\n",
      "Label: tensor([[0.]]), CTR: tensor([1.5059])\n",
      "Label: tensor([[0.]]), CTR: tensor([1.2673])\n",
      "Label: tensor([[0.]]), CTR: tensor([1.8028])\n",
      "Label: tensor([[1.]]), CTR: tensor([1.7181])\n",
      "Label: tensor([[0.]]), CTR: tensor([1.2736])\n",
      "Label: tensor([[0.]]), CTR: tensor([1.6954])\n",
      "Label: tensor([[1.]]), CTR: tensor([1.6410])\n",
      "Label: tensor([[0.]]), CTR: tensor([1.1429])\n",
      "Label: tensor([[0.]]), CTR: tensor([1.3617])\n",
      "Label: tensor([[0.]]), CTR: tensor([1.5802])\n",
      "Label: tensor([[1.]]), CTR: tensor([2.])\n",
      "Label: tensor([[0.]]), CTR: tensor([1.3690])\n",
      "Label: tensor([[0.]]), CTR: tensor([1.7067])\n",
      "Label: tensor([[0.]]), CTR: tensor([1.2190])\n",
      "Label: tensor([[0.]]), CTR: tensor([1.1278])\n",
      "Label: tensor([[0.]]), CTR: tensor([1.3061])\n",
      "Label: tensor([[0.]]), CTR: tensor([1.2190])\n",
      "Label: tensor([[0.]]), CTR: tensor([1.4884])\n",
      "Label: tensor([[0.]]), CTR: tensor([1.6954])\n",
      "Label: tensor([[0.]]), CTR: tensor([1.1797])\n",
      "Label: tensor([[0.]]), CTR: tensor([1.2929])\n",
      "Label: tensor([[1.]]), CTR: tensor([1.3989])\n",
      "Label: tensor([[0.]]), CTR: tensor([1.4713])\n",
      "Label: tensor([[0.]]), CTR: tensor([1.3264])\n",
      "Label: tensor([[0.]]), CTR: tensor([1.5610])\n",
      "Label: tensor([[0.]]), CTR: tensor([1.7778])\n",
      "Label: tensor([[1.]]), CTR: tensor([1.0894])\n",
      "Label: tensor([[1.]]), CTR: tensor([1.2075])\n",
      "Label: tensor([[0.]]), CTR: tensor([1.1907])\n",
      "Label: tensor([[1.]]), CTR: tensor([1.6306])\n",
      "Label: tensor([[0.]]), CTR: tensor([1.3913])\n",
      "Label: tensor([[1.]]), CTR: tensor([1.2249])\n",
      "Label: tensor([[1.]]), CTR: tensor([1.3763])\n",
      "Label: tensor([[1.]]), CTR: tensor([1.3763])\n",
      "Label: tensor([[0.]]), CTR: tensor([1.2075])\n",
      "Label: tensor([[1.]]), CTR: tensor([1.3545])\n",
      "Label: tensor([[0.]]), CTR: tensor([1.2190])\n",
      "Label: tensor([[1.]]), CTR: tensor([1.3838])\n",
      "Label: tensor([[0.]]), CTR: tensor([1.7067])\n",
      "Label: tensor([[0.]]), CTR: tensor([1.1584])\n",
      "Label: tensor([[0.]]), CTR: tensor([1.3913])\n",
      "Label: tensor([[1.]]), CTR: tensor([1.9248])\n",
      "Label: tensor([[1.]]), CTR: tensor([1.2367])\n",
      "Label: tensor([[1.]]), CTR: tensor([1.1963])\n",
      "Label: tensor([[0.]]), CTR: tensor([1.3333])\n",
      "Label: tensor([[0.]]), CTR: tensor([1.4971])\n",
      "Label: tensor([[1.]]), CTR: tensor([1.2488])\n",
      "Label: tensor([[0.]]), CTR: tensor([1.6516])\n",
      "Label: tensor([[0.]]), CTR: tensor([1.1584])\n",
      "Label: tensor([[0.]]), CTR: tensor([1.6000])\n",
      "Label: tensor([[0.]]), CTR: tensor([1.3545])\n",
      "Label: tensor([[0.]]), CTR: tensor([1.4222])\n",
      "Label: tensor([[1.]]), CTR: tensor([1.9692])\n",
      "Label: tensor([[0.]]), CTR: tensor([1.3333])\n",
      "Label: tensor([[1.]]), CTR: tensor([1.6203])\n",
      "Label: tensor([[1.]]), CTR: tensor([1.4545])\n",
      "Label: tensor([[1.]]), CTR: tensor([2.2261])\n",
      "Label: tensor([[0.]]), CTR: tensor([1.7181])\n",
      "Label: tensor([[1.]]), CTR: tensor([1.1584])\n",
      "Label: tensor([[1.]]), CTR: tensor([1.3838])\n",
      "Label: tensor([[0.]]), CTR: tensor([1.5148])\n",
      "Label: tensor([[1.]]), CTR: tensor([1.4884])\n",
      "Label: tensor([[0.]]), CTR: tensor([1.4798])\n",
      "Label: tensor([[1.]]), CTR: tensor([1.5515])\n",
      "Label: tensor([[0.]]), CTR: tensor([1.5238])\n",
      "Label: tensor([[1.]]), CTR: tensor([1.4884])\n",
      "Label: tensor([[1.]]), CTR: tensor([1.5610])\n",
      "Label: tensor([[0.]]), CTR: tensor([1.5901])\n",
      "Label: tensor([[0.]]), CTR: tensor([1.6954])\n",
      "Label: tensor([[0.]]), CTR: tensor([1.3403])\n",
      "Label: tensor([[1.]]), CTR: tensor([1.2929])\n",
      "Label: tensor([[0.]]), CTR: tensor([1.3763])\n",
      "Label: tensor([[0.]]), CTR: tensor([1.3838])\n",
      "Label: tensor([[0.]]), CTR: tensor([1.5422])\n",
      "Label: tensor([[0.]]), CTR: tensor([1.3913])\n",
      "Label: tensor([[1.]]), CTR: tensor([1.8028])\n",
      "Label: tensor([[0.]]), CTR: tensor([1.2673])\n",
      "Label: tensor([[1.]]), CTR: tensor([1.4884])\n",
      "Label: tensor([[1.]]), CTR: tensor([1.6000])\n",
      "Label: tensor([[1.]]), CTR: tensor([1.4798])\n",
      "Label: tensor([[0.]]), CTR: tensor([1.2673])\n",
      "Label: tensor([[1.]]), CTR: tensor([1.6516])\n",
      "Label: tensor([[0.]]), CTR: tensor([1.3913])\n",
      "Label: tensor([[0.]]), CTR: tensor([1.2075])\n",
      "Label: tensor([[0.]]), CTR: tensor([1.2549])\n",
      "Label: tensor([[0.]]), CTR: tensor([1.5610])\n",
      "Label: tensor([[1.]]), CTR: tensor([1.7655])\n",
      "Label: tensor([[0.]]), CTR: tensor([1.1584])\n",
      "Label: tensor([[1.]]), CTR: tensor([1.3545])\n",
      "Label: tensor([[1.]]), CTR: tensor([1.3690])\n",
      "Label: tensor([[0.]]), CTR: tensor([1.2673])\n",
      "Label: tensor([[0.]]), CTR: tensor([1.4884])\n",
      "Label: tensor([[0.]]), CTR: tensor([1.2995])\n",
      "Label: tensor([[0.]]), CTR: tensor([1.8156])\n",
      "Label: tensor([[1.]]), CTR: tensor([1.2800])\n",
      "Label: tensor([[0.]]), CTR: tensor([1.0622])\n",
      "Label: tensor([[0.]]), CTR: tensor([1.4302])\n",
      "Label: tensor([[0.]]), CTR: tensor([1.4545])\n",
      "Label: tensor([[1.]]), CTR: tensor([1.3989])\n",
      "Label: tensor([[0.]]), CTR: tensor([1.2611])\n",
      "Label: tensor([[1.]]), CTR: tensor([1.2673])\n",
      "Label: tensor([[0.]]), CTR: tensor([1.9845])\n",
      "Label: tensor([[0.]]), CTR: tensor([1.3333])\n",
      "Label: tensor([[1.]]), CTR: tensor([1.3617])\n",
      "Label: tensor([[0.]]), CTR: tensor([1.8551])\n",
      "Label: tensor([[0.]]), CTR: tensor([1.3333])\n",
      "Label: tensor([[0.]]), CTR: tensor([1.3128])\n",
      "Label: tensor([[0.]]), CTR: tensor([1.2864])\n",
      "Label: tensor([[0.]]), CTR: tensor([1.2427])\n",
      "Label: tensor([[0.]]), CTR: tensor([1.2995])\n",
      "Label: tensor([[0.]]), CTR: tensor([1.3333])\n",
      "Label: tensor([[0.]]), CTR: tensor([1.5706])\n",
      "[tensor([1.4144]), tensor([1.5059]), tensor([1.7067]), tensor([1.4713]), tensor([1.1852]), tensor([1.4222]), tensor([1.6000]), tensor([1.7297]), tensor([2.0317]), tensor([1.4798]), tensor([1.2549]), tensor([1.3838]), tensor([1.1278]), tensor([1.8551]), tensor([1.2133]), tensor([1.1689]), tensor([1.2075]), tensor([1.7655]), tensor([2.0157]), tensor([1.4713]), tensor([1.7297]), tensor([1.4066]), tensor([1.4884]), tensor([1.2929]), tensor([1.3989]), tensor([1.4066]), tensor([1.7534]), tensor([1.5515]), tensor([1.5238]), tensor([1.1636]), tensor([1.8286]), tensor([1.6306]), tensor([1.4713]), tensor([1.2549]), tensor([1.3838]), tensor([1.9542]), tensor([1.7297]), tensor([1.2929]), tensor([1.6203]), tensor([1.4222]), tensor([1.5059]), tensor([2.0645]), tensor([1.4144]), tensor([1.1034]), tensor([1.3545]), tensor([1.3690]), tensor([1.3545]), tensor([1.1907]), tensor([1.3061]), tensor([1.5059]), tensor([1.3196]), tensor([1.4382]), tensor([1.5706]), tensor([1.5422]), tensor([1.2549]), tensor([1.0940]), tensor([1.2929]), tensor([1.7534]), tensor([1.1480]), tensor([1.3690]), tensor([2.8132]), tensor([1.3617]), tensor([1.4713]), tensor([1.3333]), tensor([1.2864]), tensor([1.4302]), tensor([1.2736]), tensor([1.3474]), tensor([1.3763]), tensor([2.0984]), tensor([1.3403]), tensor([1.2673]), tensor([1.3913]), tensor([1.8686]), tensor([1.4971]), tensor([1.3403]), tensor([1.3474]), tensor([1.7534]), tensor([1.0847]), tensor([2.0317]), tensor([1.5059]), tensor([2.0984]), tensor([1.3690]), tensor([1.6516]), tensor([1.5515]), tensor([1.1852]), tensor([1.5238]), tensor([1.3196]), tensor([1.2308]), tensor([1.7415]), tensor([1.5059]), tensor([1.2673]), tensor([1.8028]), tensor([1.7181]), tensor([1.2736]), tensor([1.6954]), tensor([1.6410]), tensor([1.1429]), tensor([1.3617]), tensor([1.5802]), tensor([2.]), tensor([1.3690]), tensor([1.7067]), tensor([1.2190]), tensor([1.1278]), tensor([1.3061]), tensor([1.2190]), tensor([1.4884]), tensor([1.6954]), tensor([1.1797]), tensor([1.2929]), tensor([1.3989]), tensor([1.4713]), tensor([1.3264]), tensor([1.5610]), tensor([1.7778]), tensor([1.0894]), tensor([1.2075]), tensor([1.1907]), tensor([1.6306]), tensor([1.3913]), tensor([1.2249]), tensor([1.3763]), tensor([1.3763]), tensor([1.2075]), tensor([1.3545]), tensor([1.2190]), tensor([1.3838]), tensor([1.7067]), tensor([1.1584]), tensor([1.3913]), tensor([1.9248]), tensor([1.2367]), tensor([1.1963]), tensor([1.3333]), tensor([1.4971]), tensor([1.2488]), tensor([1.6516]), tensor([1.1584]), tensor([1.6000]), tensor([1.3545]), tensor([1.4222]), tensor([1.9692]), tensor([1.3333]), tensor([1.6203]), tensor([1.4545]), tensor([2.2261]), tensor([1.7181]), tensor([1.1584]), tensor([1.3838]), tensor([1.5148]), tensor([1.4884]), tensor([1.4798]), tensor([1.5515]), tensor([1.5238]), tensor([1.4884]), tensor([1.5610]), tensor([1.5901]), tensor([1.6954]), tensor([1.3403]), tensor([1.2929]), tensor([1.3763]), tensor([1.3838]), tensor([1.5422]), tensor([1.3913]), tensor([1.8028]), tensor([1.2673]), tensor([1.4884]), tensor([1.6000]), tensor([1.4798]), tensor([1.2673]), tensor([1.6516]), tensor([1.3913]), tensor([1.2075]), tensor([1.2549]), tensor([1.5610]), tensor([1.7655]), tensor([1.1584]), tensor([1.3545]), tensor([1.3690]), tensor([1.2673]), tensor([1.4884]), tensor([1.2995]), tensor([1.8156]), tensor([1.2800]), tensor([1.0622]), tensor([1.4302]), tensor([1.4545]), tensor([1.3989]), tensor([1.2611]), tensor([1.2673]), tensor([1.9845]), tensor([1.3333]), tensor([1.3617]), tensor([1.8551]), tensor([1.3333]), tensor([1.3128]), tensor([1.2864]), tensor([1.2427]), tensor([1.2995]), tensor([1.3333]), tensor([1.5706])]\n"
     ]
    }
   ],
   "source": [
    "ground_truth = torch.FloatTensor()\n",
    "ctr = []\n",
    "prediction = torch.FloatTensor()\n",
    "for step, (image, label) in enumerate(test_dataloader):\n",
    "    ground_truth = torch.cat((ground_truth, label), 0)\n",
    "    ctr_for_image = torch.tensor([ctr_from_tensor(image, heart_model, lung_model)])\n",
    "    ctr.append(ctr_for_image)\n",
    "    print(f\"Label: {label}, CTR: {ctr_for_image}\")\n",
    "    prediction_for_image = torch.ones(1) if ctr_for_image > 0.5 else torch.zeros(1)\n",
    "    prediction = torch.cat((prediction, prediction_for_image), 0)\n",
    "print(ctr)"
   ]
  },
  {
   "cell_type": "markdown",
   "metadata": {
    "collapsed": false
   },
   "source": [
    "### Calculate AUROC score"
   ]
  },
  {
   "cell_type": "code",
   "execution_count": 6,
   "metadata": {
    "collapsed": false
   },
   "outputs": [
    {
     "name": "stdout",
     "output_type": "stream",
     "text": [
      "0.549520944741533\n"
     ]
    }
   ],
   "source": [
    "score = roc_auc_score(ground_truth.squeeze(), torch.tensor(ctr))\n",
    "print(score)"
   ]
  },
  {
   "cell_type": "code",
   "execution_count": 7,
   "metadata": {
    "collapsed": false
   },
   "outputs": [
    {
     "ename": "AttributeError",
     "evalue": "'list' object has no attribute 'squeeze'",
     "output_type": "error",
     "traceback": [
      "\u001B[0;31m---------------------------------------------------------------------------\u001B[0m",
      "\u001B[0;31mAttributeError\u001B[0m                            Traceback (most recent call last)",
      "Cell \u001B[0;32mIn[7], line 4\u001B[0m\n\u001B[1;32m      2\u001B[0m diff \u001B[38;5;241m=\u001B[39m ground_truth \u001B[38;5;241m!=\u001B[39m prediction\n\u001B[1;32m      3\u001B[0m wrong_indices \u001B[38;5;241m=\u001B[39m torch\u001B[38;5;241m.\u001B[39mnonzero(diff)\n\u001B[0;32m----> 4\u001B[0m ctr \u001B[38;5;241m=\u001B[39m \u001B[43mctr\u001B[49m\u001B[38;5;241;43m.\u001B[39;49m\u001B[43msqueeze\u001B[49m()\n\u001B[1;32m      5\u001B[0m \u001B[38;5;28mprint\u001B[39m(ctr)\n\u001B[1;32m      6\u001B[0m \u001B[38;5;28;01mfor\u001B[39;00m index \u001B[38;5;129;01min\u001B[39;00m wrong_indices:\n",
      "\u001B[0;31mAttributeError\u001B[0m: 'list' object has no attribute 'squeeze'"
     ]
    }
   ],
   "source": [
    "ground_truth = ground_truth.squeeze()\n",
    "diff = ground_truth != prediction\n",
    "wrong_indices = torch.nonzero(diff)\n",
    "ctr = ctr.squeeze()\n",
    "print(ctr)\n",
    "for index in wrong_indices:\n",
    "    index = index.item()\n",
    "    print(f\"Index: {index}, CTR: {ctr[index]}\")"
   ]
  },
  {
   "cell_type": "code",
   "execution_count": null,
   "outputs": [],
   "source": [],
   "metadata": {
    "collapsed": false
   }
  }
 ],
 "metadata": {
  "kernelspec": {
   "display_name": "Python 3",
   "language": "python",
   "name": "python3"
  },
  "language_info": {
   "codemirror_mode": {
    "name": "ipython",
    "version": 3
   },
   "file_extension": ".py",
   "mimetype": "text/x-python",
   "name": "python",
   "nbconvert_exporter": "python",
   "pygments_lexer": "ipython3",
   "version": "3.10.8"
  }
 },
 "nbformat": 4,
 "nbformat_minor": 0
}
