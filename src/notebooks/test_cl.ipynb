{
 "cells": [
  {
   "cell_type": "code",
   "execution_count": 1,
   "metadata": {
    "collapsed": false
   },
   "outputs": [],
   "source": [
    "# This is necessary for imports to work correctly\n",
    "import os\n",
    "import sys\n",
    "module_path = os.path.abspath(os.path.join('..'))\n",
    "if module_path not in sys.path:\n",
    "    sys.path.append(module_path)"
   ]
  },
  {
   "cell_type": "code",
   "execution_count": 2,
   "metadata": {
    "collapsed": true
   },
   "outputs": [],
   "source": [
    "from materials.datasets import *\n",
    "\n",
    "from torchvision import transforms\n",
    "from materials.custom_transformations import HistogramEqualization\n",
    "from collections import Counter\n",
    "from materials.curriculum_learning import *"
   ]
  },
  {
   "cell_type": "code",
   "execution_count": 3,
   "metadata": {
    "collapsed": false
   },
   "outputs": [],
   "source": [
    "\n",
    "transformation_list = [\n",
    "    transforms.Resize((512, 512)),\n",
    "    HistogramEqualization(),\n",
    "    transforms.ToTensor(),\n",
    "]\n",
    "image_transformation = transforms.Compose(transformation_list)\n",
    "\n",
    "dataset = CheXpertDataset(data_path=\"../../data/CheXpert-v1.0-small/train.csv\",\n",
    "                          uncertainty_policy=\"zeros\", transform=image_transformation,\n",
    "                          heart_mask_path=\"../../data/chexpert_masks/DeepLabV3_combined_aug_2/heart\",\n",
    "                          lung_mask_path=\"../../data/chexpert_masks/DeepLabV3_combined_aug_2/lung\",\n",
    "                          curriculum_learning=True)\n"
   ]
  },
  {
   "cell_type": "code",
   "execution_count": 4,
   "metadata": {
    "collapsed": false,
    "pycharm": {
     "is_executing": true
    }
   },
   "outputs": [
    {
     "name": "stdout",
     "output_type": "stream",
     "text": [
      "23385\n",
      "160935\n",
      "1638\n",
      "11276\n",
      "6312\n",
      "43439\n",
      "15435\n",
      "106220\n"
     ]
    }
   ],
   "source": [
    "easy, medium, hard = get_subsets(dataset, True)\n",
    "\n",
    "print(sum(1 for _, label in dataset if label.item() == 1.0))\n",
    "print(sum(1 for _, label in dataset if label.item() == 0.0))\n",
    "\n",
    "for subset in [easy, medium, hard]:\n",
    "    print(sum(1 for _, label in subset if label.item() == 1.0))\n",
    "    print(sum((1 for _, label in subset if label.item() == 0.0)))"
   ]
  },
  {
   "cell_type": "code",
   "execution_count": 5,
   "metadata": {},
   "outputs": [
    {
     "name": "stdout",
     "output_type": "stream",
     "text": [
      "0\n",
      "121655\n",
      "\n"
     ]
    }
   ],
   "source": [
    "print(sum((1 for _, label in hard if label.item() == -1.0)))\n",
    "print(len(hard))\n",
    "print()"
   ]
  },
  {
   "cell_type": "code",
   "execution_count": null,
   "metadata": {},
   "outputs": [],
   "source": [
    "print(sum((1 for _, label in dataset if label.item() == -1.0)))\n",
    "print(len(dataset))\n"
   ]
  },
  {
   "cell_type": "code",
   "execution_count": 12,
   "metadata": {
    "collapsed": false
   },
   "outputs": [
    {
     "name": "stdout",
     "output_type": "stream",
     "text": [
      "0.4207920792079208\n",
      "136\n",
      "66\n",
      "0\n"
     ]
    }
   ],
   "source": [
    "correct = 0\n",
    "for i in range(len(dataset)):\n",
    "    if round(dataset.get_ctr(i)) == dataset.labels[i]:\n",
    "        correct += 1\n",
    "print(correct / len(dataset))\n",
    "\n",
    "labels = [dataset[i][1].item() for i in range(len(dataset))]\n",
    "\n",
    "# Count the occurrences of each label using Counter\n",
    "label_counts = Counter(labels)\n",
    "negative_count = label_counts[0.0]\n",
    "positive_count = label_counts[1.0]\n",
    "uncertain_count = label_counts[-1.0]\n",
    "\n",
    "print(negative_count)\n",
    "print(positive_count)\n",
    "print(uncertain_count)\n",
    "\n",
    "\n"
   ]
  },
  {
   "cell_type": "code",
   "execution_count": null,
   "metadata": {
    "collapsed": false
   },
   "outputs": [],
   "source": []
  },
  {
   "cell_type": "code",
   "execution_count": null,
   "metadata": {
    "collapsed": false
   },
   "outputs": [],
   "source": []
  }
 ],
 "metadata": {
  "kernelspec": {
   "display_name": "Python 3",
   "language": "python",
   "name": "python3"
  },
  "language_info": {
   "codemirror_mode": {
    "name": "ipython",
    "version": 3
   },
   "file_extension": ".py",
   "mimetype": "text/x-python",
   "name": "python",
   "nbconvert_exporter": "python",
   "pygments_lexer": "ipython3",
   "version": "3.10.8"
  }
 },
 "nbformat": 4,
 "nbformat_minor": 0
}
